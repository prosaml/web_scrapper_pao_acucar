{
 "cells": [
  {
   "cell_type": "code",
   "execution_count": 2,
   "metadata": {},
   "outputs": [],
   "source": [
    "import requests\n",
    "import lxml.html as html\n",
    "import pandas as pd\n",
    "import re\n",
    "from selenium import webdriver\n",
    "import gspread\n",
    "from oauth2client.service_account import ServiceAccountCredentials\n",
    "from df2gspread import df2gspread as d2g\n",
    "from open_sheet import open_sheet\n",
    "\n",
    "import progressbar\n",
    "import time"
   ]
  },
  {
   "cell_type": "markdown",
   "metadata": {},
   "source": [
    "## Pao de acucar"
   ]
  },
  {
   "cell_type": "code",
   "execution_count": 2,
   "metadata": {},
   "outputs": [],
   "source": [
    "#Modificar\n",
    "web = 'https://www.paodeacucar.com/busca?w=ricota&qt=12&p=1&gt=grid'"
   ]
  },
  {
   "cell_type": "code",
   "execution_count": 3,
   "metadata": {},
   "outputs": [],
   "source": [
    "options = webdriver.ChromeOptions()\n",
    "options.add_argument('--incognito')\n",
    "path = './chromedriver'\n",
    "web_driver = webdriver.Chrome(path, options=options)\n",
    "web_driver.get(web)"
   ]
  },
  {
   "cell_type": "code",
   "execution_count": 6,
   "metadata": {},
   "outputs": [],
   "source": [
    "#click a entiendo\n",
    "entendi_button = web_driver.find_element_by_xpath('//*[@class=\"buttonstyles__ButtonStyle-sc-1mux0mx-0 alert-cookiestyles__Button-ubrksr-3 bjGqGj\"]')\n",
    "entendi_button.click()"
   ]
  },
  {
   "cell_type": "code",
   "execution_count": 7,
   "metadata": {},
   "outputs": [
    {
     "name": "stdout",
     "output_type": "stream",
     "text": [
      "Total de productos encontrados: 18\n"
     ]
    }
   ],
   "source": [
    "seccion = web_driver.find_elements_by_xpath('//div[@class=\"breadcrumbstyles__Section-nzvsip-3 eWwJcz\"]')[-1].text\n",
    "total = int(web_driver.find_element_by_xpath('//div[@class=\"MuiGrid-root gridstyles-sc-6scn59-0 jSNVZP MuiGrid-item\"]').text.split(' ')[0])\n",
    "print('Total de productos encontrados: ' + str(total))"
   ]
  },
  {
   "cell_type": "code",
   "execution_count": 8,
   "metadata": {},
   "outputs": [
    {
     "name": "stderr",
     "output_type": "stream",
     "text": [
      "100% (18 of 18) |########################| Elapsed Time: 0:00:12 Time:  0:00:12\n"
     ]
    }
   ],
   "source": [
    "prod_pao = []\n",
    "for i in progressbar.progressbar(range(total)):\n",
    "    prod = web_driver.find_elements_by_xpath('//div[@class=\"MuiGrid-root gridstyles-sc-6scn59-0 cZKfLv MuiGrid-item MuiGrid-grid-xs-12 MuiGrid-grid-sm-6 MuiGrid-grid-md-4 MuiGrid-grid-lg-3 MuiGrid-grid-xl-3\"]')[i]\n",
    "    web_driver.execute_script(\"arguments[0].scrollIntoView(false);\", prod)\n",
    "    time.sleep(0.6)\n",
    "    name = web_driver.find_elements_by_xpath('//text[@class=\"product-cardstyles__Text-sc-1uwpde0-6 jVbxeZ\"]/a')[i].text\n",
    "    url = web_driver.find_elements_by_xpath('//text[@class=\"product-cardstyles__Text-sc-1uwpde0-6 jVbxeZ\"]/a')[i].get_attribute('href')\n",
    "    photo_link = web_driver.find_elements_by_xpath('//div[@class=\"placeholderstyles__PlaceholderContainer-ix9p6w-0 product-cardstyles__ImageDiv-sc-1uwpde0-2 lgyKfL\"]/img')[i].get_attribute('src')\n",
    "\n",
    "    prod_pao.append({'name': name,\n",
    "                     'url':url,\n",
    "                     'seccion':seccion,\n",
    "                     'photo_link':photo_link})\n",
    "web_driver.quit()"
   ]
  },
  {
   "cell_type": "code",
   "execution_count": 9,
   "metadata": {
    "collapsed": true
   },
   "outputs": [
    {
     "data": {
      "text/html": [
       "<div>\n",
       "<style scoped>\n",
       "    .dataframe tbody tr th:only-of-type {\n",
       "        vertical-align: middle;\n",
       "    }\n",
       "\n",
       "    .dataframe tbody tr th {\n",
       "        vertical-align: top;\n",
       "    }\n",
       "\n",
       "    .dataframe thead th {\n",
       "        text-align: right;\n",
       "    }\n",
       "</style>\n",
       "<table border=\"1\" class=\"dataframe\">\n",
       "  <thead>\n",
       "    <tr style=\"text-align: right;\">\n",
       "      <th></th>\n",
       "      <th>name</th>\n",
       "      <th>url</th>\n",
       "      <th>seccion</th>\n",
       "      <th>photo_link</th>\n",
       "    </tr>\n",
       "  </thead>\n",
       "  <tbody>\n",
       "    <tr>\n",
       "      <th>0</th>\n",
       "      <td>Ricota Fresca QUATÁ 400g</td>\n",
       "      <td>https://www.paodeacucar.com/produto/6019/ricot...</td>\n",
       "      <td>ricota</td>\n",
       "      <td>https://static.paodeacucar.com/img/uploads/1/7...</td>\n",
       "    </tr>\n",
       "    <tr>\n",
       "      <th>1</th>\n",
       "      <td>Creme de Ricota Light Polenghi 150g</td>\n",
       "      <td>https://www.paodeacucar.com/produto/297278/cre...</td>\n",
       "      <td>ricota</td>\n",
       "      <td>https://static.paodeacucar.com/img/uploads/1/2...</td>\n",
       "    </tr>\n",
       "    <tr>\n",
       "      <th>2</th>\n",
       "      <td>Creme de Queijo Ricota Light Tirolez Pote 200g</td>\n",
       "      <td>https://www.paodeacucar.com/produto/451667/cre...</td>\n",
       "      <td>ricota</td>\n",
       "      <td>https://static.paodeacucar.com/img/uploads/1/6...</td>\n",
       "    </tr>\n",
       "    <tr>\n",
       "      <th>3</th>\n",
       "      <td>Creme de Ricota Zero Lactose TIROLEZ 150g</td>\n",
       "      <td>https://www.paodeacucar.com/produto/397579/cre...</td>\n",
       "      <td>ricota</td>\n",
       "      <td>https://static.paodeacucar.com/img/uploads/1/5...</td>\n",
       "    </tr>\n",
       "    <tr>\n",
       "      <th>4</th>\n",
       "      <td>Creme de Ricota DANUBIO 200g</td>\n",
       "      <td>https://www.paodeacucar.com/produto/336737/cre...</td>\n",
       "      <td>ricota</td>\n",
       "      <td>https://static.paodeacucar.com/img/uploads/1/5...</td>\n",
       "    </tr>\n",
       "    <tr>\n",
       "      <th>5</th>\n",
       "      <td>Torta de Ricota com Espinafre QUALITÁ 500g</td>\n",
       "      <td>https://www.paodeacucar.com/produto/423453/tor...</td>\n",
       "      <td>ricota</td>\n",
       "      <td>https://static.paodeacucar.com/img/uploads/1/3...</td>\n",
       "    </tr>\n",
       "    <tr>\n",
       "      <th>6</th>\n",
       "      <td>Torta com Massa de Iogurte Recheio Espinafre c...</td>\n",
       "      <td>https://www.paodeacucar.com/produto/462495/tor...</td>\n",
       "      <td>ricota</td>\n",
       "      <td>https://static.paodeacucar.com/img/uploads/1/9...</td>\n",
       "    </tr>\n",
       "    <tr>\n",
       "      <th>7</th>\n",
       "      <td>Lasanha Integral de Frango com Molho de Ricota...</td>\n",
       "      <td>https://www.paodeacucar.com/produto/393444/las...</td>\n",
       "      <td>ricota</td>\n",
       "      <td>https://static.paodeacucar.com/img/uploads/1/4...</td>\n",
       "    </tr>\n",
       "    <tr>\n",
       "      <th>8</th>\n",
       "      <td>Creme De Ricota QUATÁ Pote 150g</td>\n",
       "      <td>https://www.paodeacucar.com/produto/223328</td>\n",
       "      <td>ricota</td>\n",
       "      <td>http://www.paodeacucar.com/img/uploads/1/832/5...</td>\n",
       "    </tr>\n",
       "    <tr>\n",
       "      <th>9</th>\n",
       "      <td>Creme De Ricota Com Presunto QUATÁ Pote 150g</td>\n",
       "      <td>https://www.paodeacucar.com/produto/481484</td>\n",
       "      <td>ricota</td>\n",
       "      <td>http://www.paodeacucar.com/img/uploads/1/787/1...</td>\n",
       "    </tr>\n",
       "    <tr>\n",
       "      <th>10</th>\n",
       "      <td>Creme De Ricota Com Pimenta QUATÁ Pote 150g</td>\n",
       "      <td>https://www.paodeacucar.com/produto/481485</td>\n",
       "      <td>ricota</td>\n",
       "      <td>http://www.paodeacucar.com/img/uploads/1/238/1...</td>\n",
       "    </tr>\n",
       "    <tr>\n",
       "      <th>11</th>\n",
       "      <td>Molho Pesto Tomate e Ricota Filippo Berio 190g</td>\n",
       "      <td>https://www.paodeacucar.com/produto/462974/mol...</td>\n",
       "      <td>ricota</td>\n",
       "      <td>https://static.paodeacucar.com/img/uploads/1/3...</td>\n",
       "    </tr>\n",
       "    <tr>\n",
       "      <th>12</th>\n",
       "      <td>Conjunto de 3 Ramequins 10x5cm 180ml Receitas ...</td>\n",
       "      <td>https://www.paodeacucar.com/produto/557835/con...</td>\n",
       "      <td>ricota</td>\n",
       "      <td>https://static.paodeacucar.com/img/uploads/1/3...</td>\n",
       "    </tr>\n",
       "    <tr>\n",
       "      <th>13</th>\n",
       "      <td>Vinho Miolo Single Vineyard Riesling 750ml</td>\n",
       "      <td>https://www.paodeacucar.com/produto/566963/vin...</td>\n",
       "      <td>ricota</td>\n",
       "      <td>https://static.paodeacucar.com/img/uploads/1/6...</td>\n",
       "    </tr>\n",
       "    <tr>\n",
       "      <th>14</th>\n",
       "      <td>Sorrentino de Ricota Fresca, Parmesão e Castan...</td>\n",
       "      <td>https://www.paodeacucar.com/produto/311748/sor...</td>\n",
       "      <td>ricota</td>\n",
       "      <td>https://static.paodeacucar.com/img/uploads/1/6...</td>\n",
       "    </tr>\n",
       "    <tr>\n",
       "      <th>15</th>\n",
       "      <td>Creme de Queijo Ricota Original Tirolez Pote 200g</td>\n",
       "      <td>https://www.paodeacucar.com/produto/451668/cre...</td>\n",
       "      <td>ricota</td>\n",
       "      <td>https://static.paodeacucar.com/img/uploads/1/3...</td>\n",
       "    </tr>\n",
       "    <tr>\n",
       "      <th>16</th>\n",
       "      <td>Pasta Box Capeletti Ricota e Espinafre com Mol...</td>\n",
       "      <td>https://www.paodeacucar.com/produto/331432/pas...</td>\n",
       "      <td>ricota</td>\n",
       "      <td>https://static.paodeacucar.com/img/uploads/1/1...</td>\n",
       "    </tr>\n",
       "    <tr>\n",
       "      <th>17</th>\n",
       "      <td>Creme De Ricota Com Ervas Finas QUATÁ Pote 150g</td>\n",
       "      <td>https://www.paodeacucar.com/produto/481486</td>\n",
       "      <td>ricota</td>\n",
       "      <td>http://www.paodeacucar.com/img/uploads/1/237/1...</td>\n",
       "    </tr>\n",
       "  </tbody>\n",
       "</table>\n",
       "</div>"
      ],
      "text/plain": [
       "                                                 name  \\\n",
       "0                            Ricota Fresca QUATÁ 400g   \n",
       "1                 Creme de Ricota Light Polenghi 150g   \n",
       "2      Creme de Queijo Ricota Light Tirolez Pote 200g   \n",
       "3           Creme de Ricota Zero Lactose TIROLEZ 150g   \n",
       "4                        Creme de Ricota DANUBIO 200g   \n",
       "5          Torta de Ricota com Espinafre QUALITÁ 500g   \n",
       "6   Torta com Massa de Iogurte Recheio Espinafre c...   \n",
       "7   Lasanha Integral de Frango com Molho de Ricota...   \n",
       "8                     Creme De Ricota QUATÁ Pote 150g   \n",
       "9        Creme De Ricota Com Presunto QUATÁ Pote 150g   \n",
       "10        Creme De Ricota Com Pimenta QUATÁ Pote 150g   \n",
       "11     Molho Pesto Tomate e Ricota Filippo Berio 190g   \n",
       "12  Conjunto de 3 Ramequins 10x5cm 180ml Receitas ...   \n",
       "13         Vinho Miolo Single Vineyard Riesling 750ml   \n",
       "14  Sorrentino de Ricota Fresca, Parmesão e Castan...   \n",
       "15  Creme de Queijo Ricota Original Tirolez Pote 200g   \n",
       "16  Pasta Box Capeletti Ricota e Espinafre com Mol...   \n",
       "17    Creme De Ricota Com Ervas Finas QUATÁ Pote 150g   \n",
       "\n",
       "                                                  url seccion  \\\n",
       "0   https://www.paodeacucar.com/produto/6019/ricot...  ricota   \n",
       "1   https://www.paodeacucar.com/produto/297278/cre...  ricota   \n",
       "2   https://www.paodeacucar.com/produto/451667/cre...  ricota   \n",
       "3   https://www.paodeacucar.com/produto/397579/cre...  ricota   \n",
       "4   https://www.paodeacucar.com/produto/336737/cre...  ricota   \n",
       "5   https://www.paodeacucar.com/produto/423453/tor...  ricota   \n",
       "6   https://www.paodeacucar.com/produto/462495/tor...  ricota   \n",
       "7   https://www.paodeacucar.com/produto/393444/las...  ricota   \n",
       "8          https://www.paodeacucar.com/produto/223328  ricota   \n",
       "9          https://www.paodeacucar.com/produto/481484  ricota   \n",
       "10         https://www.paodeacucar.com/produto/481485  ricota   \n",
       "11  https://www.paodeacucar.com/produto/462974/mol...  ricota   \n",
       "12  https://www.paodeacucar.com/produto/557835/con...  ricota   \n",
       "13  https://www.paodeacucar.com/produto/566963/vin...  ricota   \n",
       "14  https://www.paodeacucar.com/produto/311748/sor...  ricota   \n",
       "15  https://www.paodeacucar.com/produto/451668/cre...  ricota   \n",
       "16  https://www.paodeacucar.com/produto/331432/pas...  ricota   \n",
       "17         https://www.paodeacucar.com/produto/481486  ricota   \n",
       "\n",
       "                                           photo_link  \n",
       "0   https://static.paodeacucar.com/img/uploads/1/7...  \n",
       "1   https://static.paodeacucar.com/img/uploads/1/2...  \n",
       "2   https://static.paodeacucar.com/img/uploads/1/6...  \n",
       "3   https://static.paodeacucar.com/img/uploads/1/5...  \n",
       "4   https://static.paodeacucar.com/img/uploads/1/5...  \n",
       "5   https://static.paodeacucar.com/img/uploads/1/3...  \n",
       "6   https://static.paodeacucar.com/img/uploads/1/9...  \n",
       "7   https://static.paodeacucar.com/img/uploads/1/4...  \n",
       "8   http://www.paodeacucar.com/img/uploads/1/832/5...  \n",
       "9   http://www.paodeacucar.com/img/uploads/1/787/1...  \n",
       "10  http://www.paodeacucar.com/img/uploads/1/238/1...  \n",
       "11  https://static.paodeacucar.com/img/uploads/1/3...  \n",
       "12  https://static.paodeacucar.com/img/uploads/1/3...  \n",
       "13  https://static.paodeacucar.com/img/uploads/1/6...  \n",
       "14  https://static.paodeacucar.com/img/uploads/1/6...  \n",
       "15  https://static.paodeacucar.com/img/uploads/1/3...  \n",
       "16  https://static.paodeacucar.com/img/uploads/1/1...  \n",
       "17  http://www.paodeacucar.com/img/uploads/1/237/1...  "
      ]
     },
     "execution_count": 9,
     "metadata": {},
     "output_type": "execute_result"
    }
   ],
   "source": [
    "df_prod_pao = pd.DataFrame(prod_pao)\n",
    "df_prod_pao"
   ]
  },
  {
   "cell_type": "code",
   "execution_count": 11,
   "metadata": {},
   "outputs": [
    {
     "name": "stderr",
     "output_type": "stream",
     "text": [
      "100% (18 of 18) |########################| Elapsed Time: 0:01:38 Time:  0:01:38\n"
     ]
    }
   ],
   "source": [
    "for pr in progressbar.progressbar(range(len(df_prod_pao))):\n",
    "    \n",
    "    #Ingreso a la web\n",
    "    web = df_prod_pao.loc[pr,'url']\n",
    "    options = webdriver.ChromeOptions()\n",
    "    options.add_argument('--incognito')\n",
    "    path = './chromedriver'\n",
    "    web_prord = webdriver.Chrome(path, options=options)\n",
    "    web_prord.get(web)\n",
    "    \n",
    "    #click a entiendo\n",
    "    entendi_button = web_prord.find_element_by_xpath('//*[@class=\"buttonstyles__ButtonStyle-sc-1mux0mx-0 alert-cookiestyles__Button-ubrksr-3 bjGqGj\"]')\n",
    "    entendi_button.click()\n",
    "    \n",
    "    try:\n",
    "        df_prod_pao.loc[pr,'Descripcion_producto'] = web_prord.find_element_by_xpath('//div[@class=\"MuiGrid-root gridstyles-sc-6scn59-0 laucrw\"]').text\n",
    "    except:\n",
    "         df_prod_pao.loc[pr,'Descripcion_producto'] = ''\n",
    "            \n",
    "    web_prord.quit()"
   ]
  },
  {
   "cell_type": "code",
   "execution_count": 13,
   "metadata": {},
   "outputs": [],
   "source": [
    "scope_gdoc = ['https://spreadsheets.google.com/feeds','https://www.googleapis.com/auth/drive']\n",
    "cre = ServiceAccountCredentials.from_json_keyfile_name('', scope_gdoc)\n",
    "gc = gspread.authorize(cre)"
   ]
  },
  {
   "cell_type": "code",
   "execution_count": 15,
   "metadata": {},
   "outputs": [],
   "source": [
    "#Modificar\n",
    "#Planilla a donde se guarda el resultado\n",
    "Planilla = ''\n",
    "#Nombre del dominio + pao deacucar\n",
    "sheet = ''"
   ]
  },
  {
   "cell_type": "code",
   "execution_count": 16,
   "metadata": {},
   "outputs": [
    {
     "data": {
      "text/plain": [
       "<Worksheet 'Ricotta - poa de acucar' id:919218669>"
      ]
     },
     "execution_count": 16,
     "metadata": {},
     "output_type": "execute_result"
    }
   ],
   "source": [
    "d2g.upload(df_prod_pao.reset_index(drop=True).fillna(''),\n",
    "           Planilla,sheet,credentials=cre, row_names=False)"
   ]
  },
  {
   "cell_type": "code",
   "execution_count": null,
   "metadata": {},
   "outputs": [],
   "source": []
  }
 ],
 "metadata": {
  "kernelspec": {
   "display_name": "Python 3",
   "language": "python",
   "name": "python3"
  },
  "language_info": {
   "codemirror_mode": {
    "name": "ipython",
    "version": 3
   },
   "file_extension": ".py",
   "mimetype": "text/x-python",
   "name": "python",
   "nbconvert_exporter": "python",
   "pygments_lexer": "ipython3",
   "version": "3.7.3"
  }
 },
 "nbformat": 4,
 "nbformat_minor": 2
}
